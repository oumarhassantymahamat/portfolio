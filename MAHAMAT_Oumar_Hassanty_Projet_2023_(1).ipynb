{
  "cells": [
    {
      "cell_type": "markdown",
      "metadata": {
        "id": "59OUyiad9dza"
      },
      "source": [
        "#Classification de la base MNIST par réseau de neurones"
      ]
    },
    {
      "cell_type": "markdown",
      "metadata": {
        "id": "fvIKvXBHBs7-"
      },
      "source": [
        "###Question 1 :\n"
      ]
    },
    {
      "cell_type": "markdown",
      "source": [
        "En utilisant la classe\n",
        "```\n",
        "CLASS torchvision.datasets.MNIST\n",
        "```\n",
        "documentée ici :\n",
        "\n",
        "https://pytorch.org/vision/stable/generated/torchvision.datasets.MNIST.html#torchvision.datasets.MNIST\n",
        "\n",
        "et sur le modèle du TP4, définir les objets `trainset`, `trainloader`, `testset`, `testloader` et `classes` en définissant une fonction transform qui ramène les niveaux de gris dans l'intervalle $[-1,1]$.\n",
        "\n",
        "Afficher quelques images avec leur classe correspondante."
      ],
      "metadata": {
        "id": "NsUIDinonpNk"
      }
    },
    {
      "cell_type": "code",
      "source": [
        "import torch\n",
        "import torchvision\n",
        "import torchvision.transforms as transforms\n",
        "import matplotlib.pyplot as plt\n",
        "import numpy as np\n",
        "import torch.nn as nn\n",
        "import torch.nn.functional as F\n",
        "import torchvision.datasets as datasets\n",
        "import time"
      ],
      "metadata": {
        "id": "iKexVBmYoQ_6"
      },
      "execution_count": null,
      "outputs": []
    },
    {
      "cell_type": "code",
      "source": [
        "# Définition d'une transformation pour normaliser les niveaux de gris dans [-1,1]\n",
        "transform = transforms.Compose(\n",
        "    [transforms.ToTensor(), # Convertion des images en tenseurs\n",
        "     transforms.Normalize((0.5,), (0.5,))]) # Normalisation des valeurs des pixels entre -1 et 1\n",
        "\n",
        "batch_size = 16   # définir la taille de lot\n",
        "\n",
        "# Chargement de l'ensemble de données MNIST pour l'entraînement\n",
        "trainset = torchvision.datasets.MNIST(root='./data', train=True,\n",
        "                                        download=True, transform=transform)\n",
        "\n",
        "# Création d'un chargeur de données pour l'ensemble de données d'entraînement\n",
        "trainloader = torch.utils.data.DataLoader(trainset, batch_size=batch_size,\n",
        "                                          shuffle=True, num_workers=2)\n",
        "\n",
        "# Chargement de l'ensemble de données MNIST pour les tests\n",
        "testset = torchvision.datasets.MNIST(root='./data', train=False,\n",
        "                                       download=True, transform=transform)\n",
        "\n",
        "# Création  d'un chargeur de données pour l'ensemble de données de test\n",
        "testloader = torch.utils.data.DataLoader(testset, batch_size=batch_size,\n",
        "                                         shuffle=False, num_workers=2)\n",
        "# Création d'une instance de l'ensemble de données MNIST\n",
        "mnist_dataset = datasets.MNIST(root='./data', train=True, download=True)"
      ],
      "metadata": {
        "id": "xF2PTdFyBYfi",
        "colab": {
          "base_uri": "https://localhost:8080/"
        },
        "outputId": "4d2162e3-e656-4fca-a119-3eee29c746a4"
      },
      "execution_count": null,
      "outputs": [
        {
          "output_type": "stream",
          "name": "stdout",
          "text": [
            "Downloading http://yann.lecun.com/exdb/mnist/train-images-idx3-ubyte.gz\n",
            "Downloading http://yann.lecun.com/exdb/mnist/train-images-idx3-ubyte.gz to ./data/MNIST/raw/train-images-idx3-ubyte.gz\n"
          ]
        },
        {
          "output_type": "stream",
          "name": "stderr",
          "text": [
            "100%|██████████| 9912422/9912422 [00:00<00:00, 200605600.19it/s]\n"
          ]
        },
        {
          "output_type": "stream",
          "name": "stdout",
          "text": [
            "Extracting ./data/MNIST/raw/train-images-idx3-ubyte.gz to ./data/MNIST/raw\n",
            "\n",
            "Downloading http://yann.lecun.com/exdb/mnist/train-labels-idx1-ubyte.gz\n",
            "Downloading http://yann.lecun.com/exdb/mnist/train-labels-idx1-ubyte.gz to ./data/MNIST/raw/train-labels-idx1-ubyte.gz\n"
          ]
        },
        {
          "output_type": "stream",
          "name": "stderr",
          "text": [
            "100%|██████████| 28881/28881 [00:00<00:00, 27808928.79it/s]\n"
          ]
        },
        {
          "output_type": "stream",
          "name": "stdout",
          "text": [
            "Extracting ./data/MNIST/raw/train-labels-idx1-ubyte.gz to ./data/MNIST/raw\n",
            "\n",
            "Downloading http://yann.lecun.com/exdb/mnist/t10k-images-idx3-ubyte.gz\n",
            "Downloading http://yann.lecun.com/exdb/mnist/t10k-images-idx3-ubyte.gz to ./data/MNIST/raw/t10k-images-idx3-ubyte.gz\n"
          ]
        },
        {
          "output_type": "stream",
          "name": "stderr",
          "text": [
            "100%|██████████| 1648877/1648877 [00:00<00:00, 62931811.24it/s]"
          ]
        },
        {
          "output_type": "stream",
          "name": "stdout",
          "text": [
            "Extracting ./data/MNIST/raw/t10k-images-idx3-ubyte.gz to ./data/MNIST/raw\n"
          ]
        },
        {
          "output_type": "stream",
          "name": "stderr",
          "text": [
            "\n"
          ]
        },
        {
          "output_type": "stream",
          "name": "stdout",
          "text": [
            "\n",
            "Downloading http://yann.lecun.com/exdb/mnist/t10k-labels-idx1-ubyte.gz\n",
            "Downloading http://yann.lecun.com/exdb/mnist/t10k-labels-idx1-ubyte.gz to ./data/MNIST/raw/t10k-labels-idx1-ubyte.gz\n"
          ]
        },
        {
          "output_type": "stream",
          "name": "stderr",
          "text": [
            "100%|██████████| 4542/4542 [00:00<00:00, 7129688.91it/s]\n"
          ]
        },
        {
          "output_type": "stream",
          "name": "stdout",
          "text": [
            "Extracting ./data/MNIST/raw/t10k-labels-idx1-ubyte.gz to ./data/MNIST/raw\n",
            "\n"
          ]
        }
      ]
    },
    {
      "cell_type": "markdown",
      "source": [
        "Notre objectif général du code ci-dessus est de charger l'ensemble de données MNIST pour la classification d'images en utilisant des chargeurs de données pour l'entraînement et les tests.\n",
        "\n",
        "Plus spécifiquement,\n",
        "- On a commencer par la définition de la transformation transform qui nous permet de transformer et de normalise les niveaux de gris des images dans l'intervalle [-1, 1].\n",
        "code explication : transforms.ToTensor veut dire quant on rencontre une image on veut qu'elle soit en format tensor et transforms.Normalize pour une normalisation parceque nos image sont de base entre 0 et 1 et nous on veux travailler avec des images qui sont entre -1 t 1 parceque nos fonctions d'activation sont centrées en 0 alors le mieux est que nos données soient aussi centrées en 0.Dans le tp4 vu en cours La moyenne et l'écart-type sont définis avec un triplet à (0.5, 0.5, 0.5) pour centrer les valeurs des canaux couleur autour de 0. Mais ici comme, on a des image en niveau de gris donc à la place des triplet une seul car on a un seul cannal.  Ensuite viens la définition de la taille de lot à utiliser lors du chargement des données dans le modèle.\n",
        "\n",
        "- Après la définition de la transformation, nous sommes passé au chargement de l'ensemble de données MNIST pour l'entraînement et les tests en utilisant la classe torchvision.datasets.MNIST. Pour info le jeu de données MNIST normalement contient 70 000 images, avec 60 000 images pour l'entraînement et 10 000 images pour les tests.c'est la même idée comme vu au premier cours en utilisant les pourcentages ( 80% de données pour l'entrinement,10% pour le test et 10% pour la validation). En plus Chaque image a une taille de 28 x 28 pixels et est représentée sous forme de tenseur 2D avec des valeurs de pixel comprises entre 0 et 255.\n",
        "\n",
        "- Les objets trainset et testset defini ci-déssus contiennent les images et les étiquettes de chaque ensemble de données, qui sont utilisés pour créer les chargeurs de données trainloader et testloader à l'aide de torch.utils.data.DataLoader. Les chargeurs de données sont configurés avec une taille de lot que nous allons nommer batch_size."
      ],
      "metadata": {
        "id": "ZlvgT12HNgkU"
      }
    },
    {
      "cell_type": "code",
      "source": [
        "# functions to show an image\n",
        "\n",
        "\n",
        "def imshow(img):\n",
        "    img = img / 2 + 0.5     # unnormalize\n",
        "    npimg = img.numpy()\n",
        "    plt.imshow(np.transpose(npimg, (1, 2, 0)))\n",
        "    plt.show()\n",
        "\n",
        "\n",
        "# get some random training images\n",
        "dataiter = iter(trainloader)\n",
        "images, labels = next(dataiter)\n",
        "\n",
        "# show images\n",
        "imshow(torchvision.utils.make_grid(images))\n",
        "# print labels\n",
        "classes = ('zero', 'one', 'two', 'three',\n",
        "           'four', 'five', 'six', 'seven', 'eight', 'nine')\n",
        "print(' '.join(f'{classes[labels[j]]:5s}' for j in range(batch_size)))"
      ],
      "metadata": {
        "colab": {
          "base_uri": "https://localhost:8080/",
          "height": 209
        },
        "id": "uv2prHztCOhm",
        "outputId": "ae2ce59f-afbd-42a3-9a27-c722504a6d30"
      },
      "execution_count": null,
      "outputs": [
        {
          "output_type": "display_data",
          "data": {
            "text/plain": [
              "<Figure size 640x480 with 1 Axes>"
            ],
            "image/png": "[encoded data removed]"
          },
          "metadata": {}
        },
        {
          "output_type": "stream",
          "name": "stdout",
          "text": [
            "zero  seven four  three three zero  zero  three nine  five  zero  two   six   three two   nine \n"
          ]
        }
      ]
    },
    {
      "cell_type": "markdown",
      "source": [
        "Dans le code ci-déssus, nous avons défini une fonction imshow pour afficher une image normalisée. La fonction prend un tenseur d'image normalisé en entrée et le dénormalise en multipliant par 0,5 et en ajoutant 0,5. Ensuite, elle convertit le tenseur en un tableau NumPy et l'affiche avec matplotlib.pyplot.imshow.\n",
        "\n",
        "Nous avons également utilisé la fonction iter pour obtenir un itérateur sur les lots du jeu de données d'entraînement, puis la méthode next pour obtenir le prochain lot d'images et d'étiquettes. Nous avons ensuite affiché les images avec leurs classes correspondantes en utilisant la fonction imshow et en imprimant les étiquettes de classe correspondantes avec print.\n",
        "\n",
        "En exécutant ce code, on voit quelques images du jeu de données MNIST avec leurs classes correspondantes"
      ],
      "metadata": {
        "id": "Kb7K-7KyOX1C"
      }
    },
    {
      "cell_type": "markdown",
      "metadata": {
        "id": "88hk_RFQDC9f"
      },
      "source": [
        "###Question 2 :\n",
        "\n"
      ]
    },
    {
      "cell_type": "markdown",
      "source": [
        "\n",
        "Décrire quantitativement la base de données en répondant aux questions suivantes :\n",
        "\n",
        "* Quelle est la taille de chaque image ?\n",
        "* Combien y a-t-il d'images au total pour `trainset` et `testset` ?\n",
        "* Combien d'images par classe ?\n",
        "* Combien de classes ?\n",
        "\n",
        "On pourra proposer un script pour répondre aux questions."
      ],
      "metadata": {
        "id": "Or9s6u1XnwvF"
      }
    },
    {
      "cell_type": "markdown",
      "source": [
        "Décrivons quantitativement la base de données en répondant aux questions posées ci-déssur;\n",
        "\n",
        "- La taille de chaque image est de 28x28 pixels.\n",
        "\n",
        "- Il y a 60000 images dans trainset et 10000 images dans testset.\n",
        "\n",
        "- Il y a 6000 images par classe dans trainset et 1000 images par classe dans testset.\n",
        "\n",
        "- Il y a 10 classes correspondant aux chiffres de 0 à 9."
      ],
      "metadata": {
        "id": "1Bv90_4zS4U9"
      }
    },
    {
      "cell_type": "code",
      "source": [
        "# Obtention d'une image à partir de l'ensemble de données\n",
        "sample_image, _ = mnist_dataset[0]\n",
        "\n",
        "# Obtention de la taille de l'image\n",
        "image_size = sample_image.size\n",
        "print(\"La taille de chaque image est : \", image_size )\n",
        "\n",
        "# Nombre total d'images pour trainset et testset\n",
        "trainset_im = len(trainset)\n",
        "testset_im = len(testset)\n",
        "print(\"Le nombre total d'images pour trainset est : \",trainset_im )\n",
        "print(\"Le nombre total d'images pour testset est : \", testset_im)\n",
        "\n",
        "# Nombre d'images par classe\n",
        "im_per_class_trainset = [0]*10\n",
        "im_per_class_testset = [0]*10\n",
        "\n",
        "for image, label in trainloader:\n",
        "    for l in label:\n",
        "        im_per_class_trainset[l] += 1\n",
        "\n",
        "for image, label in testloader:\n",
        "    for l in label:\n",
        "        im_per_class_testset[l] += 1\n",
        "\n",
        "print(\"Le nombre d'images par classe pour trainset est : \", im_per_class_trainset)\n",
        "print(\"Le nombre d'images par classe pour testset est : \", im_per_class_testset)\n",
        "\n",
        "# Affichage du nombre de classes\n",
        "print(\"Le nombre de classes est : \", len(set(trainset.classes)))"
      ],
      "metadata": {
        "id": "dU-paiOLoTfZ",
        "colab": {
          "base_uri": "https://localhost:8080/"
        },
        "outputId": "50b30a5c-0bf1-404d-e120-ba764fcbc77e"
      },
      "execution_count": null,
      "outputs": [
        {
          "output_type": "stream",
          "name": "stdout",
          "text": [
            "La taille de chaque image est :  (28, 28)\n",
            "Le nombre total d'images pour trainset est :  60000\n",
            "Le nombre total d'images pour testset est :  10000\n",
            "Le nombre d'images par classe pour trainset est :  [5923, 6742, 5958, 6131, 5842, 5421, 5918, 6265, 5851, 5949]\n",
            "Le nombre d'images par classe pour testset est :  [980, 1135, 1032, 1010, 982, 892, 958, 1028, 974, 1009]\n",
            "Le nombre de classes est :  10\n"
          ]
        }
      ]
    },
    {
      "cell_type": "markdown",
      "metadata": {
        "id": "E6wiUT0FEFRt"
      },
      "source": [
        "## Réseau de neurones convolutionnel (CNN)\n",
        "\n",
        "On souhaite définir un réseau de neurones convolutionnel (CNN) qui s'applique aux images de `MNIST`et effectue la suite d'opérations suivante :\n",
        "\n",
        "**Partie CNN :**\n",
        " * Une convolution 2D de noyau de taille 5x5 avec 16 canaux en sortie, suivie d'une activation  ReLU.\n",
        " * Un max-pooling 2D de taille 2x2\n",
        " * Une convolution 2D de noyau de taille 5x5 avec 32 canaux en sortie, suivie d'une activation  ReLU.\n",
        " * Un max-pooling 2D de taille 2x2\n",
        "\n",
        "**Partie linéaire :**\n",
        " * Une couche linéaire finale permettant la classification.\n",
        "\n"
      ]
    },
    {
      "cell_type": "markdown",
      "metadata": {
        "id": "O1P0bWYOGj2d"
      },
      "source": [
        "###Question 3 :"
      ]
    },
    {
      "cell_type": "markdown",
      "source": [
        "Etant donnée un batch `x` (dont on précisera les dimensions) en entrée du CNN, expliciter les dimensions des tenseurs en entrée et en sortie de chacune des couches successives du réseau. On prendra soin de préciser les opérations nécessaires pour passer de la partie CNN à la partie linéaire."
      ],
      "metadata": {
        "id": "n8DvQkuFn8CH"
      }
    },
    {
      "cell_type": "markdown",
      "source": [
        "Expliciton les dimensions des tenseurs en entrée et en sortie de chacune des couches successives du réseau:\n",
        "\n",
        "Le réseau de neurones convolutionnel qui s'applique aux images de MNIST et effectue la suite d'opérations donnée ci-déssus est:\n",
        "\n",
        "en supposant un batch x de dimensions (16, 1, 28, 28) avec 16 est le batch_size, 1 pour le cannal d'entré et (28,28) pour la taille des images de MNIST on a:\n",
        "\n",
        "Explication sans prendre compte du batch_size sachant qu'on a batch_size = 16 a chaque fois.\n",
        "\n",
        "- Première couche de convolution :\n",
        "En entrée on a une image de taille: (1, 28, 28) avec un Noyau de convolution de taille (1, 5, 5) et on a en sortie une image de taille (16, 24, 24)\n",
        "suivie d'une activation ReLU qui change ni la taille de l'image ni le nombre de cannal comme suit  Entrée image (16, 24, 24) et Sortie image (16, 24, 24).\n",
        "- max-pooling1 : qui prend entrée une image (16, 24, 24) après le pooling on se retrouve en sortie avec une image (16, 12, 12) rappelons que 16 represente les cannaux.\n",
        "\n",
        "- La séconde Couche de convolution:\n",
        "Entrée, cette couche prende l'image obténu à la sortie du pooling qui est de taile (16, 12, 12) avec un Noyau de convolution (16, 5, 5), nous obtenons en Sortie (32, 8, 8) rappelons que le batch_size de l'image reste toujours celui de l'image de départ.\n",
        "Ensuite, vient l'activation ReLU qui ne change pas la taille de l'image c'est à dire qu'après l'activation la taille d'image est toujours (32, 8, 8)\n",
        "- max-pooling2 : avant le pooling on a une image de taille (32, 8, 8) après le poolins on se retrouve en sortie avec une image de taille (32, 4, 4)\n",
        "\n",
        "- Couche linéaire : pour la couche lineaire on a en Entrée une image (32, 4, 4) (après la mise en forme) avec un Poids : (10, 512) et au final une image de Sortie (16, 10) avec 10 qui est le nombre de classe de MNIST\n",
        "\n",
        "POUR RESUMER ON A:\n",
        "\n",
        "-- Couche de convolution 1 : entrée (1, 28, 28) → sortie (16, 24, 24)\n",
        "\n",
        "-- Activation ReLU : entrée (16, 24, 24) → sortie (16, 24, 24)\n",
        "\n",
        "-- pooling : entrée (16, 24, 24) → sortie (16, 12, 12)\n",
        "\n",
        "-- Couche de convolution 2 : entrée (16, 12, 12) → sortie (32, 8, 8)\n",
        "\n",
        "-- Activation ReLU : entrée (32, 8, 8) → sortie (32, 8, 8)\n",
        "\n",
        "-- pooling : entrée (32, 8, 8) → sortie (16, 32, 4, 4)\n",
        "\n",
        "-- Couche linéaire : entrée (32, 4, 4) → sortie (16, 10)"
      ],
      "metadata": {
        "id": "CxrmEYJbbiAo"
      }
    },
    {
      "cell_type": "markdown",
      "source": [
        "Précisons les opérations nécessaires pour passer de la partie CNN à la partie linéaire.\n",
        "\n",
        "ici dans le cas d'une image de MNIST on a en entrée une image de taille (1,28,28) pendant la première convolution comme on veux un utiliser un noyau de taille (1,5,5) on utilise la formule vu en cours (nbr de canal,M-2*k ,M-2*k) avec 2*k+1=5  pour avoir la taille de l'image de sortie donc k=2 ici dans notre cas. En sortie aprés la convolution on aura une image de taille (16, 28-2*k, 28-2*k) = (16,24,24) avec 16 nombre de cannal en sortie voulu après on a le pooling qui divise la taille de l'image par 2 donc on aura en sortie (16,24/2,24/2)=(16,12,12) avec l'activation aussi. Ensuite pour la deuxième couche de convolution On prend l'image de la sortie de la première convolution et on fait la procédue donc au final on se retrouve avec une image de taille (32,4,4) avec 32 le nombre de canal qui est l'image a utilisé pour la couche linaire."
      ],
      "metadata": {
        "id": "h0tYqqJBQmtP"
      }
    },
    {
      "cell_type": "markdown",
      "metadata": {
        "id": "wt1jCa_YHi4K"
      },
      "source": [
        "###Question 4 :"
      ]
    },
    {
      "cell_type": "markdown",
      "source": [
        "Définir une class `CNNet` qui implémente le modèle décrit ci-dessus.\n",
        "\n",
        "Définir un réseau cnnet = CNNet() et tester sa fonction `forward` sur un batch du `trainset`.\n",
        "\n",
        "Afficher quel est le nombre de paramètres du réseau."
      ],
      "metadata": {
        "id": "-fFaKUnQoBPo"
      }
    },
    {
      "cell_type": "code",
      "source": [
        "class CNNet(nn.Module):\n",
        "    def __init__(self):\n",
        "        super(CNNet,self).__init__()\n",
        "        self.conv1 = nn.Conv2d(1, 16, 5)\n",
        "        self.conv2 = nn.Conv2d(16, 32, 5)\n",
        "        self.fc = nn.Linear(32*4*4, 10)\n",
        "\n",
        "\n",
        "    def forward(self, x):\n",
        "        x = F.max_pool2d(F.relu(self.conv1(x)), 2)\n",
        "        x = F.max_pool2d(F.relu(self.conv2(x)), 2)\n",
        "        x = torch.flatten(x, 1)\n",
        "        x = self.fc(x)\n",
        "        return x\n",
        "\n",
        "cnnet = CNNet()\n",
        "print(cnnet)\n",
        "\n",
        "# Récupération d'un batch du trainset\n",
        "images, labels = next(iter(trainloader))\n",
        "\n",
        "output = cnnet(images)\n",
        "\n",
        "print(\"Taille de la sortie : \", output.size())\n",
        "\n",
        "# Calcul du nombre de paramètres du réseau\n",
        "num_params = sum(p.numel() for p in cnnet.parameters())\n",
        "print(\"Nombre de paramètres du réseau : \", num_params)"
      ],
      "metadata": {
        "id": "OzbVEKc0oVqq",
        "colab": {
          "base_uri": "https://localhost:8080/"
        },
        "outputId": "bc1765ca-f91d-40fa-d716-5024d96d5813"
      },
      "execution_count": null,
      "outputs": [
        {
          "output_type": "stream",
          "name": "stdout",
          "text": [
            "CNNet(\n",
            "  (conv1): Conv2d(1, 16, kernel_size=(5, 5), stride=(1, 1))\n",
            "  (conv2): Conv2d(16, 32, kernel_size=(5, 5), stride=(1, 1))\n",
            "  (fc): Linear(in_features=512, out_features=10, bias=True)\n",
            ")\n",
            "Taille de la sortie :  torch.Size([16, 10])\n",
            "Nombre de paramètres du réseau :  18378\n"
          ]
        }
      ]
    },
    {
      "cell_type": "markdown",
      "source": [
        "le code ci-dessus a pour objectif de définir un réseau de neurones convolutionnel qui s'applique aux images de MNISTet effectue la suite d'opérations suivante :\n",
        "Une convolution 2D de noyau de taille 5x5 avec 16 canaux en sortie, suivie d'une activation ReLU.\n",
        "Un max-pooling 2D de taille 2x2\n",
        "Une convolution 2D de noyau de taille 5x5 avec 32 canaux en sortie, suivie d'une activation ReLU.\n",
        "Un max-pooling 2D de taille 2x2\n",
        "Une couche linéaire finale permettant la classification.\n",
        "\n",
        "la sortie de ce code nous indique la taille du tenseur de sortie et le nombre total de paramètre du reseau de neuron.\n",
        "\n",
        "CNNet(\n",
        "  (conv1): Conv2d(1, 16, kernel_size=(5, 5), stride=(1, 1))\n",
        "  (conv2): Conv2d(16, 32, kernel_size=(5, 5), stride=(1, 1))\n",
        "  (fc): Linear(in_features=512, out_features=10, bias=True)\n",
        "): Cette partie de la sortie du code affiche un résumé de l'architecture du réseau. Chaque couche est affichée avec son type (Conv2d ou Linear), ainsi que ses caractéristiques d'entrée et de sortie. Par exemple, << Conv2d(1, 16, kernel_size=(5, 5), stride=(1, 1)) >> signifie qu'il y a une couche de convolution avec une entrée de taille 1, une sortie de taille 16, une taille de noyau de 5x5 et un stride de 1x1. De même, << Linear(in_features=512, out_features=100, bias=True) >> indique qu'il y a une couche linéaire avec 512 caractéristiques d'entrée, 100 caractéristiques de sortie et un biais."
      ],
      "metadata": {
        "id": "Mj7yBboT9530"
      }
    },
    {
      "cell_type": "markdown",
      "metadata": {
        "id": "czxLOjJpImVp"
      },
      "source": [
        "##Entraînement du réseau"
      ]
    },
    {
      "cell_type": "markdown",
      "metadata": {
        "id": "JMSz4iH4H8ON"
      },
      "source": [
        "###Question 5 :\n",
        "\n"
      ]
    },
    {
      "cell_type": "markdown",
      "source": [
        "Proposer un script qui entraîne le réseau `cnnet` sur 10 epochs avec affichage à chaque epochs de l'\"epoch loss\" (moyenne des loss sur chaque batch considérés dans l'epoch, soit la \"running loss\" accumulée sur toute l'epoch) et du temps total de l'entraînement ( en s'aidant du module `time` par exemple).\n",
        "\n",
        "*Attention : le temps d'entraînement est plutôt long : entre 15 et 20 minutes. Contactez-moi si le temps d'entraînement est plus long.*"
      ],
      "metadata": {
        "id": "R4mQBDWRoMd7"
      }
    },
    {
      "cell_type": "code",
      "source": [
        "import torch.optim as optim\n",
        "\n",
        "criterion = nn.CrossEntropyLoss()\n",
        "optimizer = optim.SGD(cnnet.parameters(), lr=0.001, momentum=0.9)"
      ],
      "metadata": {
        "id": "0F9QJRz6prRK"
      },
      "execution_count": null,
      "outputs": []
    },
    {
      "cell_type": "markdown",
      "source": [
        "le code ci-déssus permet la définition de la fonction de coût ou loss utiliser pendant l'entraînement du réseau et l'optimiseur utile pour lamise à jour des poids du réseau.\n",
        "\n",
        "La fonction de coût définie comme la Cross-Entropy Loss qui est une mesure de l'écart entre la prédiction du réseau de neurones et la classe réelle de l'entrée, courammet utilisée pour les problèmes de classification multiclasse. La fonction nn.CrossEntropyLoss() prend en entrée les prédictions du réseau et les vraies étiquettes de classe, et calcule la perte.\n",
        "\n",
        "L'optimiseur est un algorithme d'optimisation couramment utilisé pour entraîner des réseaux de neurones. Il prend en entrée les paramètres du réseau de neurones à mettre à jour (obtenus en appelant la méthode cnnet.parameters()) et des hyperparamètres tels que le taux d'apprentissage et le momentum. L'optimiseur permet de met à jour les poids du réseau de neurones pour minimiser la fonction de coût pendant l'entraînement"
      ],
      "metadata": {
        "id": "6NtNQxuHjQJt"
      }
    },
    {
      "cell_type": "code",
      "source": [
        "debut = time.time()\n",
        "for epoch in range(10):  # loop over the dataset multiple times\n",
        "\n",
        "    running_loss = 0.0\n",
        "    for i, data in enumerate(trainloader, 0):\n",
        "        # get the inputs; data is a list of [inputs, labels]\n",
        "        inputs, labels = data\n",
        "\n",
        "        # zero the parameter gradients\n",
        "        optimizer.zero_grad()\n",
        "\n",
        "        # forward + backward + optimize\n",
        "        outputs = cnnet(inputs)\n",
        "        loss = criterion(outputs, labels)\n",
        "        loss.backward()\n",
        "        optimizer.step()\n",
        "\n",
        "        # print statistics\n",
        "        running_loss += loss.item()\n",
        "        if i % 2000 == 1999:    # print every 2000 mini-batches\n",
        "            print(f'[{epoch + 1}, {i + 1:5d}] loss: {running_loss / 2000:.3f}')\n",
        "            running_loss = 0.0\n",
        "\n",
        "print('Finished Training')\n",
        "\n",
        "fin = time.time()\n",
        "temps = fin - debut\n",
        "print(\"le temps total d'entrainemet en séconde est\",temps)"
      ],
      "metadata": {
        "id": "5LGjTLTEP_0u",
        "outputId": "dbccdfce-d324-4c10-96c2-3ae643521639",
        "colab": {
          "base_uri": "https://localhost:8080/"
        }
      },
      "execution_count": null,
      "outputs": [
        {
          "output_type": "stream",
          "name": "stdout",
          "text": [
            "[1,  2000] loss: 0.400\n",
            "[2,  2000] loss: 0.082\n",
            "[3,  2000] loss: 0.058\n",
            "[4,  2000] loss: 0.049\n",
            "[5,  2000] loss: 0.043\n",
            "[6,  2000] loss: 0.035\n",
            "[7,  2000] loss: 0.031\n",
            "[8,  2000] loss: 0.028\n",
            "[9,  2000] loss: 0.027\n",
            "[10,  2000] loss: 0.024\n",
            "Finished Training\n",
            "le temps total d'entrainemet en séconde est 622.1662213802338\n"
          ]
        }
      ]
    },
    {
      "cell_type": "markdown",
      "source": [
        "le code ci-déssus permet d'effectuer l'entraînement du réseau de neurones nommée cnnet pendant 10 epochs sur l'ensemble de données d'entraînement trainloader.\n",
        "\n",
        "La première boucle parcourt les 10 epochs. A chaque epoch, la variable running_loss est initialisée à zéro, puis elle est mise à jour en ajoutant la perte calculée sur chaque batch.\n",
        "\n",
        "La deuxième boucle à l'interieur de la première parcourt chaque batch de données de l'ensemble d'entraînement. Pour chaque batch, on récupère les entrées et les étiquettes de classe. Ensuite, on remet à zéro les gradients du réseau en appelant optimizer.zero_grad(). On propage ensuite les entrées dans le réseau (outputs = cnnet(inputs)) pour obtenir les prédictions du réseau, puis on calcule la perte en appelant criterion(outputs, labels). On calcule les gradients de la perte par rapport aux poids du réseau avec loss.backward(), puis on met à jour les poids avec optimizer.step().\n"
      ],
      "metadata": {
        "id": "W4B3XK0SWjMw"
      }
    },
    {
      "cell_type": "markdown",
      "metadata": {
        "id": "gTrG06YqKxNU"
      },
      "source": [
        "### Question 6 :\n"
      ]
    },
    {
      "cell_type": "markdown",
      "source": [
        "\n",
        "Expliquer la relation mathématique entre la sortie du réseau de neurones et la classe prédite par le réseau de neurone. Justifier cette formule.\n",
        "\n"
      ],
      "metadata": {
        "id": "KZ5gOx_xKHiX"
      }
    },
    {
      "cell_type": "markdown",
      "source": [
        "La relation mathématique entre la sortie du réseau de neurones et la classe prédite par le réseau de neurones est déterminée par la fonction de perte utilisée et la fonction d'activation de la couche de sortie.\n",
        "\n",
        "Dans notre cas ici, la fonction de perte que nous avons utilisée est la \"CrossEntropyLoss\", qui est couramment utilisée pour les problèmes de classification. Elle mesure la similarité entre la distribution de probabilité prédite par le réseau de neurones et la distribution réelle des étiquettes de classe. Elle est adaptée aux problèmes de classification multiclasse.\n",
        "Dans notre cas ici, la couche de sortie du réseau de neurones est une couche linéaire qui n'est suivie d'aucune fonction d'activation. Cela signifie qu'on a une combinaison linéaire des activations de la couche précédente en sortie. On sait que la couche linéaire est paramétrisée par des poids et un vecteur de biais.\n",
        "\n",
        "La formule mathématique pour la sortie du réseau de neurones est donc :\n",
        "\n",
        "y = g(w) + b\n",
        "\n",
        "où g(x) ue foction qui représente les activations de la couche précédente, w est la matrice de poids de la couche de sortie et b est le vecteur de biais de la couche de sortie.\n",
        "\n",
        "Ainsi, la sortie du réseau de neurones est une combinaison linéaire des activations de la couche précédente pondérées par les poids, à laquelle on ajoute le biais.\n",
        "\n",
        "Ensuite, pour obtenir la classe prédite, on applique généralement une fonction d'activation appropriée à la sortie du réseau. Dans notre cas ici, aucune fonction d'activation n'est appliquée donc La classe prédite est simplement déterminée en sélectionnant la classe correspondant à la valeur la plus élevée dans la sortie du réseau.\n",
        "\n",
        "Donc, finallment no eut dire que la sortie du réseau de neurones est obtenue en effectuant une combinaison linéaire des activations de la couche précédente à l'aide des poids et du biais et La classe prédite est ensuite déterminée en prenant la classe correspondant à la valeur la plus élevée dans la sortie du réseau."
      ],
      "metadata": {
        "id": "9ozN-Y0jrSBo"
      }
    },
    {
      "cell_type": "markdown",
      "metadata": {
        "id": "NEeDRD39LMzW"
      },
      "source": [
        "### Question 7 :\n"
      ]
    },
    {
      "cell_type": "markdown",
      "source": [
        "A l'aide des fonctions de ```sklearn```utilisées dans le TP1, évaluer la performance du réseau entraîné (rapport de classification et matrice de confusion).\n",
        "\n",
        "Commenter les résultats"
      ],
      "metadata": {
        "id": "gWYzNf-6pMfi"
      }
    },
    {
      "cell_type": "code",
      "source": [
        "from sklearn.metrics import classification_report, confusion_matrix\n",
        "\n",
        "# Définir le mode d'évaluation en mode évaluation (éteint le calcul des gradients)\n",
        "cnnet.eval()\n",
        "\n",
        "# listes pour stocker les prédictions et les étiquettes réelles\n",
        "list_predictions = []\n",
        "list_labels = []\n",
        "\n",
        "# Boucle d'évaluation sur les données de test\n",
        "for data in testloader:\n",
        "    entre, labels = data\n",
        "    sortie = cnnet(entre)\n",
        "    _, predicted = torch.max(sortie.data, 1)\n",
        "\n",
        "    list_predictions.extend(predicted.numpy())\n",
        "    list_labels.extend(labels.numpy())\n",
        "\n",
        "# Convertir les prédictions et étiquettes en tableaux numpy\n",
        "list_predictions = np.array(list_predictions)\n",
        "list_labels = np.array(list_labels)\n",
        "\n",
        "# Afficher le rapport de classification\n",
        "print(classification_report(list_labels, list_predictions))\n",
        "cm = confusion_matrix(list_labels, list_predictions)\n",
        "# Afficher la matrice de confusion\n",
        "print(cm)"
      ],
      "metadata": {
        "id": "OLDHI_U9psMu",
        "colab": {
          "base_uri": "https://localhost:8080/"
        },
        "outputId": "21ad0b81-85b9-4ace-8b05-d3bbfccb71ed"
      },
      "execution_count": null,
      "outputs": [
        {
          "output_type": "stream",
          "name": "stdout",
          "text": [
            "              precision    recall  f1-score   support\n",
            "\n",
            "           0       0.99      1.00      0.99       980\n",
            "           1       0.99      1.00      0.99      1135\n",
            "           2       0.99      0.99      0.99      1032\n",
            "           3       0.99      0.99      0.99      1010\n",
            "           4       0.99      0.99      0.99       982\n",
            "           5       0.98      0.99      0.99       892\n",
            "           6       1.00      0.98      0.99       958\n",
            "           7       0.99      0.99      0.99      1028\n",
            "           8       0.98      0.99      0.99       974\n",
            "           9       0.99      0.99      0.99      1009\n",
            "\n",
            "    accuracy                           0.99     10000\n",
            "   macro avg       0.99      0.99      0.99     10000\n",
            "weighted avg       0.99      0.99      0.99     10000\n",
            "\n",
            "[[ 977    0    0    0    0    0    1    1    1    0]\n",
            " [   0 1130    1    0    2    1    0    0    1    0]\n",
            " [   0    2 1018    2    2    0    0    2    6    0]\n",
            " [   1    0    1 1000    0    4    0    0    3    1]\n",
            " [   0    0    2    0  976    0    0    1    0    3]\n",
            " [   2    0    0    5    0  881    1    1    1    1]\n",
            " [   6    2    0    1    3    3  940    0    3    0]\n",
            " [   0    2    2    2    0    0    0 1015    1    6]\n",
            " [   3    0    1    0    1    1    0    2  965    1]\n",
            " [   1    2    0    0    2    5    0    2    2  995]]\n"
          ]
        }
      ]
    },
    {
      "cell_type": "markdown",
      "source": [
        "le code ci-déssus nous permet d'effectuer l'évaluation d'un modèle de réseau de neuron sur les données de test à l'aide de PyTorch.\n",
        "\n",
        "cnnet.eval permet de  mettre le modèle en mode évaluation en désactivant le calcul des gradients. les deux listes predictions et labels  permettent de stocké les prédictions et les étiquettes réelles des données.\n",
        "la boucle for  permet l'itèration sur les données de test à partir du testloader qui  contient les données de test.\n",
        "entre, labels = data cette égalitée permet l' extrction des données de test  en couples caractéristiques et étiquettes réelles.\n",
        "_, predicted  utilise la fonction torch.max pour l'obtention des prédictions en sélectionnant l'indice de la classe avec la plus grande valeur de sortie pour chaque exemple.\n",
        "predictions.extend et labels.extend ajoutent les prédictions et les étiquettes réelles à leurs listes respectives. Les prédictions sont converties numpy à l'aide de predicted.numpy, puis ajoutées à predictions. pareil pour les étiquettes réelles.\n",
        "\n",
        "np.array(predictions) et np.array(labels) pour la convertion en tableaux numpy pour faciliter les opérations.\n",
        "\n",
        "Donc tous ça c'est pour évaluer la performance du modèle de réseau sur les données de test, en calculant le rapport de classification et la matrice de confusion. Ces deux outils fournissent une évaluation détaillée de la performance du modèle."
      ],
      "metadata": {
        "id": "pvHH3K4qUTT0"
      }
    },
    {
      "cell_type": "markdown",
      "metadata": {
        "id": "JnsGeSQKLjeB"
      },
      "source": [
        "## Comparaison avec un réseau à une couche cachée"
      ]
    },
    {
      "cell_type": "markdown",
      "metadata": {
        "id": "qCREf5WDLyr9"
      },
      "source": [
        "Pour finir nous allons comparer la performance du réseau CNN avec un réseau simple à une seule couche cachée.\n",
        "\n",
        "On va utiliser l'architecture suivante :\n",
        "\n",
        "* Une couche linéaire avec dimension de sortie 100, suivie d'une activation  ReLU.\n",
        "* Une couche linéaire finale permettant la classification."
      ]
    },
    {
      "cell_type": "markdown",
      "metadata": {
        "id": "lAu4vfJmMYc5"
      },
      "source": [
        "###Question 8 :\n"
      ]
    },
    {
      "cell_type": "markdown",
      "source": [
        "Définir une class `MLP` qui implémente le modèle décrit ci-dessus.\n",
        "\n",
        "Définir un réseau mlp = MLP() et tester sa fonction `forward` sur un batch du `trainset`.\n",
        "\n",
        "Afficher quel est le nombre de paramètres du réseau `mlp`. Commenter."
      ],
      "metadata": {
        "id": "AC7uNrIypXeZ"
      }
    },
    {
      "cell_type": "code",
      "source": [
        "class MLP(nn.Module):\n",
        "    def __init__(self):\n",
        "        super(MLP,self).__init__()\n",
        "        self.fc1 = nn.Linear(28*28, 100)\n",
        "        self.fc2 = nn.Linear(100, 10)\n",
        "\n",
        "\n",
        "    def forward(self, x):\n",
        "        x = torch.flatten(x, 1)\n",
        "        x = F.relu(self.fc1(x))\n",
        "        x = self.fc2(x)\n",
        "        return x\n",
        "\n",
        "mlp = MLP()\n",
        "print(mlp)\n",
        "\n",
        "\n",
        "# Récupération d'un batch d'images et d'étiquettes du trainloader\n",
        "images, labels = next(iter(trainloader))\n",
        "\n",
        "output = mlp(images)\n",
        "\n",
        "print(\"Taille de la sortie : \", output.size())\n",
        "\n",
        "# Calcul du nombre de paramètres du réseau\n",
        "num_params = sum(p.numel() for p in mlp.parameters())\n",
        "print(\"Nombre de paramètres du réseau : \", num_params)"
      ],
      "metadata": {
        "id": "7TpxHGM6ptkG",
        "colab": {
          "base_uri": "https://localhost:8080/"
        },
        "outputId": "fd40fb11-719e-4442-ff12-373125dba691"
      },
      "execution_count": null,
      "outputs": [
        {
          "output_type": "stream",
          "name": "stdout",
          "text": [
            "MLP(\n",
            "  (fc1): Linear(in_features=784, out_features=100, bias=True)\n",
            "  (fc2): Linear(in_features=100, out_features=10, bias=True)\n",
            ")\n",
            "Taille de la sortie :  torch.Size([16, 10])\n",
            "Nombre de paramètres du réseau :  79510\n"
          ]
        }
      ]
    },
    {
      "cell_type": "markdown",
      "source": [
        "torch.Size([16, 10]) nous indique que la taille du tenseur de sortie est de [16, 10] ça veut dire qu'il y a un lot de 16 échantillons, et chaque échantillon a une dimension de sortie de 10 qui correspondent aux prédictions du modèle pour chaque échantillon.\n",
        "\n",
        "Le Nombre 65558 représente le nombre total de paramètres dans le réseau. Il s'agit de la somme du nombre d'éléments dans tous les tenseurs de poids et de biais de toutes les couches. Dans ce cas, le réseau a 65 558 paramètres qui seront appris lors de l'entraînement du modèle.\n",
        "\n",
        "MLP(...) : Cette ligne de la sortie du code ci-déssus affiche un résumé de l'architecture du réseau. Chaque couche est affichée avec son type ( Linear), ainsi que ses caractéristiques d'entrée et de sortie.\n",
        "\n",
        "En regardant les résultats obtenu, on peut dire que le modèle MLP a produit une sortie de taille attendue, avec des prédictions pour un lot de 16 échantillons et 10 classes possibles. Le nombre total de paramètres indique le nivau de complexité du réseau, avec plus de 65 000 paramètres à apprendre. L'affichage du résultat donne une vue d'ensemble des différentes couches du réseau, ce qui est utile pour comprendre sa structure et ses caractéristiques."
      ],
      "metadata": {
        "id": "dKCvm34k-o-4"
      }
    },
    {
      "cell_type": "markdown",
      "metadata": {
        "id": "I8wiYKM6M9Bg"
      },
      "source": [
        "###Question 9 :\n",
        "\n"
      ]
    },
    {
      "cell_type": "markdown",
      "source": [
        "Adapter les scripts des questions 5 et 7 pour entraîner le réseau `mlp` et évaluer sa performance.\n",
        "\n",
        "Comparer les performances des deux réseaux entraînés."
      ],
      "metadata": {
        "id": "R12E5_Tqpc-4"
      }
    },
    {
      "cell_type": "code",
      "source": [
        "import torch.optim as optim\n",
        "\n",
        "criterion = nn.CrossEntropyLoss()\n",
        "optimizer = optim.SGD(mlp.parameters(), lr=0.001, momentum=0.9)"
      ],
      "metadata": {
        "id": "tKD1PvLSpvY_"
      },
      "execution_count": null,
      "outputs": []
    },
    {
      "cell_type": "code",
      "source": [
        "debut = time.time()\n",
        "for epoch in range(10):  # loop over the dataset multiple times\n",
        "\n",
        "    running_loss = 0.0\n",
        "    for i, data in enumerate(trainloader, 0):\n",
        "        # get the inputs; data is a list of [inputs, labels]\n",
        "        inputs, labels = data\n",
        "\n",
        "        # zero the parameter gradients\n",
        "        optimizer.zero_grad()\n",
        "\n",
        "        # forward + backward + optimize\n",
        "        outputs = mlp(inputs)\n",
        "        loss = criterion(outputs, labels)\n",
        "        loss.backward()\n",
        "        optimizer.step()\n",
        "\n",
        "        # print statistics\n",
        "        running_loss += loss.item()\n",
        "        if i % 2000 == 1999:    # print every 2000 mini-batches\n",
        "            print(f'[{epoch + 1}, {i + 1:5d}] loss: {running_loss / 2000:.3f}')\n",
        "            running_loss = 0.0\n",
        "\n",
        "print('Finished Training')\n",
        "\n",
        "fin = time.time()\n",
        "temps = fin - debut\n",
        "print(\"le temps total d'entrainemet en séconde est\",temps)"
      ],
      "metadata": {
        "colab": {
          "base_uri": "https://localhost:8080/"
        },
        "id": "RhrU9ciEhaxr",
        "outputId": "d2e04207-da0b-4b39-fde9-b45fb18ead3f"
      },
      "execution_count": null,
      "outputs": [
        {
          "output_type": "stream",
          "name": "stdout",
          "text": [
            "[1,  2000] loss: 0.575\n",
            "[2,  2000] loss: 0.276\n",
            "[3,  2000] loss: 0.215\n",
            "[4,  2000] loss: 0.179\n",
            "[5,  2000] loss: 0.147\n",
            "[6,  2000] loss: 0.129\n",
            "[7,  2000] loss: 0.114\n",
            "[8,  2000] loss: 0.103\n",
            "[9,  2000] loss: 0.091\n",
            "[10,  2000] loss: 0.083\n",
            "Finished Training\n",
            "le temps total d'entrainemet en séconde est 341.07580375671387\n"
          ]
        }
      ]
    },
    {
      "cell_type": "code",
      "source": [
        "from sklearn.metrics import classification_report, confusion_matrix\n",
        "\n",
        "# Définir le mode d'évaluation en mode évaluation (éteint le calcul des gradients)\n",
        "mlp.eval()\n",
        "\n",
        "# listes pour stocker les prédictions et les étiquettes réelles\n",
        "list_predictions = []\n",
        "list_labels = []\n",
        "\n",
        "# Boucle d'évaluation sur les données de test\n",
        "for data in testloader:\n",
        "    entre, labels = data\n",
        "    sortie = mlp(entre)\n",
        "    _, predicted = torch.max(sortie.data, 1)\n",
        "\n",
        "    list_predictions.extend(predicted.numpy())\n",
        "    list_labels.extend(labels.numpy())\n",
        "\n",
        "# Convertir les prédictions et étiquettes en tableaux numpy\n",
        "list_predictions = np.array(list_predictions)\n",
        "list_labels = np.array(list_labels)\n",
        "\n",
        "# Afficher le rapport de classification\n",
        "print(classification_report(list_labels, list_predictions))\n",
        "cm = confusion_matrix(list_labels, list_predictions)\n",
        "# Afficher la matrice de confusion\n",
        "print(cm)"
      ],
      "metadata": {
        "colab": {
          "base_uri": "https://localhost:8080/"
        },
        "id": "GPYkNZ5Yh6OF",
        "outputId": "cef62244-05e1-40f6-f41b-14aa868dd859"
      },
      "execution_count": null,
      "outputs": [
        {
          "output_type": "stream",
          "name": "stdout",
          "text": [
            "              precision    recall  f1-score   support\n",
            "\n",
            "           0       0.98      0.98      0.98       980\n",
            "           1       0.98      0.99      0.98      1135\n",
            "           2       0.98      0.96      0.97      1032\n",
            "           3       0.96      0.98      0.97      1010\n",
            "           4       0.94      0.99      0.96       982\n",
            "           5       0.97      0.97      0.97       892\n",
            "           6       0.97      0.97      0.97       958\n",
            "           7       0.98      0.95      0.97      1028\n",
            "           8       0.96      0.97      0.97       974\n",
            "           9       0.98      0.93      0.96      1009\n",
            "\n",
            "    accuracy                           0.97     10000\n",
            "   macro avg       0.97      0.97      0.97     10000\n",
            "weighted avg       0.97      0.97      0.97     10000\n",
            "\n",
            "[[ 964    0    0    0    1    2    5    1    6    1]\n",
            " [   0 1124    2    2    0    1    3    1    2    0]\n",
            " [   5    2  994    4    7    1    6    7    6    0]\n",
            " [   0    0    2  987    0    6    0    6    6    3]\n",
            " [   2    0    4    0  968    0    3    0    2    3]\n",
            " [   4    1    0    9    3  862    6    0    5    2]\n",
            " [   6    3    0    1    5    5  932    0    6    0]\n",
            " [   1   13    8    6   10    1    0  981    0    8]\n",
            " [   2    0    2    8    5    4    5    3  943    2]\n",
            " [   4    9    2   12   31    4    0    5    2  940]]\n"
          ]
        }
      ]
    },
    {
      "cell_type": "markdown",
      "source": [
        "Comparons les performances des deux réseaux entraînés:\n",
        "\n",
        "On sait que la performance d'un réseau dépend de plusieurs chose comme la taille de l'ensemble de données,  la qualité de l'ensemble de données, le nombre de paramètres du réseau, le temps d'entraînement, la diagonalité de la matrice de confusion et d'autres. On vois que l'entrainement de notre réseau mlp prend moins de temps(341.07580375671387 secondes) par rapport à l'entrainement de notre réseau cnnet (622.1662213802338 séconde) cela peut-ètre dû à l'absence des couche de convolution et du pouling dans le modèle mlp et on sait que la présence de plus de couches augmente la capacité du modèle à représenter des fonctions plus complexes. Cela peut être bénéfique quand on veux faire une modélisation plus fine des données et  la présence de plus de couches augmente également la complexité du modèle et potentiellement le temps d'entraînement requis pour obtenir de bonnes performances.\n",
        "\n",
        "On sait que la matrice de confusion permet de visualiser et d'analyser les résultats des prédictions sur un ensemble de données, donc c'est un outil essentiel pour évaluer les performances d'un réseau. En regardant les matrices de confusions des deux reseaux on constate que les valeurs hors diagonales du modèle mlp sont plus grandes que celles de notre reseau cnnet , vu que la diagonale principale de la matrice de confusion représente les prédictions correctes et les éléments en dehors de la diagonale principale indiquent les erreurs de classification pour chaque classe. cela veut dire qu'on a plus des erreurs de classification dans notre mlp que cnnet.\n",
        "\n",
        "Finalement, et pour ètre bref Notre réseaux CNNet est particulièrement performants pour le traitement d'images, car ils exploitent la structure spatiale des données à l'aide de couches de convolution et de pooling. Ils sont conçus pour extraire automatiquement les caractéristiques pertinentes des images."
      ],
      "metadata": {
        "id": "1neWM_aZFmq1"
      }
    }
  ],
  "metadata": {
    "colab": {
      "provenance": []
    },
    "kernelspec": {
      "display_name": "Python 3",
      "language": "python",
      "name": "python3"
    },
    "language_info": {
      "codemirror_mode": {
        "name": "ipython",
        "version": 3
      },
      "file_extension": ".py",
      "mimetype": "text/x-python",
      "name": "python",
      "nbconvert_exporter": "python",
      "pygments_lexer": "ipython3",
      "version": "3.8.5"
    },
    "gpuClass": "standard"
  },
  "nbformat": 4,
  "nbformat_minor": 0
}